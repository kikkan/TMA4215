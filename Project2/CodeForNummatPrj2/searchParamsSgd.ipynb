{
 "cells": [
  {
   "cell_type": "markdown",
   "metadata": {},
   "source": [
    "# Setup"
   ]
  },
  {
   "cell_type": "code",
   "execution_count": 20,
   "metadata": {},
   "outputs": [],
   "source": [
    "from classes import *\n",
    "\n",
    "\n",
    "\n",
    "mod = Model(np.array([[1, 2, 3], [1, 2, 3], [1, 2, 3]]), np.array([1, 2, 3]), 15)\n",
    "adamOpt = Adam(mod.copy(), h=0.1, tol=1e-5, maxiter=1e4)\n",
    "sgdAdamOpt = SGD(adamOpt, 10)"
   ]
  },
  {
   "cell_type": "markdown",
   "metadata": {},
   "source": [
    "# Training"
   ]
  },
  {
   "cell_type": "code",
   "execution_count": 2,
   "metadata": {},
   "outputs": [
    {
     "name": "stdout",
     "output_type": "stream",
     "text": [
      "Training on batch 0-20 with 1500 datapoints.\n",
      "Inputs: Q, output: V, iterations: 10000.0, Layers: 15\n",
      "Batch\tJ(θ)\n",
      "0\t0.00288965123787851\n",
      "1\t0.005635367871321423\n",
      "2\t0.0031452814022990797\n",
      "3\t0.002921542177665444\n",
      "4\t0.008893259415533669\n",
      "5\t0.0013828366095690445\n",
      "6\t0.011838053736460545\n",
      "7\t0.0014020955984928554\n",
      "8\t0.001258308292018806\n",
      "9\t0.0008664388744149366\n",
      "10\t0.002592996328023009\n",
      "11\t0.004078314657830677\n",
      "12\t0.0012099116625697076\n",
      "Error occured on batch 13:\n",
      "underflow encountered in multiply\n",
      "14\t0.011925639239543245\n",
      "Error occured on batch 15:\n",
      "underflow encountered in multiply\n",
      "16\t0.00727663878247921\n",
      "17\t0.012986833851024704\n",
      "18\t0.008283941609733732\n",
      "Error occured on batch 19:\n",
      "underflow encountered in multiply\n",
      "20\t0.003200329014847781\n",
      "Training time: 0:15:37.974624\n"
     ]
    }
   ],
   "source": [
    "batchFrom = 0\n",
    "batchTo = 20\n",
    "dataPointsFrom = 0\n",
    "dataPointsTo = 1500\n",
    "train(sgdAdamOpt, batchFrom, batchTo, dataPointsFrom, dataPointsTo)"
   ]
  },
  {
   "cell_type": "markdown",
   "metadata": {},
   "source": [
    "# Testing\n",
    "We have chosen to train all optimizers on the first 21 batches and then test them on batch 30"
   ]
  },
  {
   "cell_type": "code",
   "execution_count": 13,
   "metadata": {},
   "outputs": [
    {
     "name": "stdout",
     "output_type": "stream",
     "text": [
      "(3, 1500)\n",
      "(1500,)\n"
     ]
    }
   ],
   "source": [
    "testBatch = generate_data(30)\n",
    "Y0test = np.array(testBatch['Q'][:, dataPointsFrom:dataPointsTo])\n",
    "print(Y0test.shape)\n",
    "Ctest = np.array(testBatch['V'][dataPointsFrom:dataPointsTo])\n",
    "print(Ctest.shape)\n",
    "ttest = testBatch['t'][dataPointsFrom:dataPointsTo]"
   ]
  },
  {
   "cell_type": "code",
   "execution_count": 18,
   "metadata": {},
   "outputs": [],
   "source": [
    "def testOnNew(Y, C, t, m):\n",
    "    Z = Y.copy()\n",
    "    θ = m.M.θ\n",
    "\n",
    "    for k in range(m.M.K):\n",
    "        Z = (Z + m.M.h * σ(θ['W'][k] @ Z + θ['b'][k]))\n",
    "    print(Z.shape)\n",
    "    Υ = η(Z.T @ θ['w'] + θ['μ']).T[0]\n",
    "    print(Υ.shape)\n",
    "\n",
    "    Jθ = 0.5*np.linalg.norm(Υ - scale(C))**2\n",
    "\n",
    "    plt.title(r'Trained on new input, $J(\\theta) = {}\\%$'.format(round(Jθ, 4)))\n",
    "    plt.plot(t, scaleBack(Υ, C), label=r'$\\tilde{F}(y)$')\n",
    "    plt.plot(t, C, ls='--')\n",
    "    plt.legend()\n",
    "    plt.show()"
   ]
  },
  {
   "cell_type": "code",
   "execution_count": 19,
   "metadata": {},
   "outputs": [
    {
     "name": "stdout",
     "output_type": "stream",
     "text": [
      "(3, 1500)\n",
      "(1500,)\n"
     ]
    },
    {
     "data": {
      "image/png": "[encoded data removed]",
      "text/plain": [
       "<Figure size 432x288 with 1 Axes>"
      ]
     },
     "metadata": {
      "needs_background": "light"
     },
     "output_type": "display_data"
    }
   ],
   "source": [
    "testOnNew(Y0test, Ctest, ttest, sgdAdamOpt)"
   ]
  }
 ],
 "metadata": {
  "kernelspec": {
   "display_name": "Python 3",
   "language": "python",
   "name": "python3"
  },
  "language_info": {
   "codemirror_mode": {
    "name": "ipython",
    "version": 3
   },
   "file_extension": ".py",
   "mimetype": "text/x-python",
   "name": "python",
   "nbconvert_exporter": "python",
   "pygments_lexer": "ipython3",
   "version": "3.8.3"
  }
 },
 "nbformat": 4,
 "nbformat_minor": 4
}
