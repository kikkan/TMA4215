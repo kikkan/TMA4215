{
 "cells": [
  {
   "cell_type": "markdown",
   "metadata": {},
   "source": [
    "# Pre stuff\n",
    "## Simplest of things"
   ]
  },
  {
   "cell_type": "code",
   "execution_count": 7,
   "metadata": {},
   "outputs": [],
   "source": [
    "import numpy as np\n",
    "import matplotlib.pyplot as plt\n",
    "import random as rnd\n",
    "from datetime import datetime as dt\n",
    "from givenFncs import generate_data\n",
    "\n",
    "\n",
    "def σ(x):\n",
    "    return np.tanh(x)\n",
    "\n",
    "\n",
    "def dσ(x):\n",
    "    # return 1 / np.cosh(x)**2 # our\n",
    "    return 1.0 - np.tanh(x) ** 2\n",
    "\n",
    "\n",
    "def η(x):  # max [0, 1]\n",
    "    return (1.0 + np.tanh(x / 2.0)) / 2.0\n",
    "\n",
    "\n",
    "def dη(x):\n",
    "    # return 1/(2 * np.cosh(x) + 2) # our\n",
    "    return 0.25 * (1.0 - np.tanh(x / 2.0) ** 2)\n",
    "\n",
    "\n",
    "def scale(y, α=0, β=1):\n",
    "    b = np.max(y)\n",
    "    a = np.min(y)\n",
    "    return ((b - y)*α + (y - a)*β) / (b-a)\n",
    "\n",
    "\n",
    "def scaleBack(sy, c, α=0, β=1):\n",
    "    b = np.max(c)\n",
    "    a = np.min(c)\n",
    "    return sy*(b - a)/(β - α) - (b*α - a*β)/(β-α)"
   ]
  },
  {
   "cell_type": "markdown",
   "metadata": {},
   "source": [
    "## Classes "
   ]
  },
  {
   "cell_type": "code",
   "execution_count": 8,
   "metadata": {},
   "outputs": [],
   "source": [
    "class Model():\n",
    "    \"\"\"Base model:\n",
    "        It holds startup informasjon about the model and the network used in this method.\n",
    "    \"\"\"\n",
    "\n",
    "    def __init__(self, Y0, C, K, weigths=None):\n",
    "        \"\"\"Set values\"\"\"\n",
    "        self.d = len(Y0)\n",
    "        self.I = len(Y0[0])\n",
    "        self.C = C  # Ska denna vær init her?\n",
    "        self.K = K\n",
    "        self.h = None\n",
    "        self.j = 0  # Iterations\n",
    "        self.Υ = np.zeros_like(self.C)\n",
    "        self.Y0 = Y0\n",
    "        self.ΥmC = self.Υ - self.C\n",
    "        self.Jθ = 0.5 * np.linalg.norm(self.Υ - self.C)**2\n",
    "        self.Jθlog = []\n",
    "        if weigths:  # Imports weigths\n",
    "            self.startθ = weigths\n",
    "        else:  # set random weights\n",
    "            self.startθ = {'W': np.random.rand(self.K, self.d, self.d),\n",
    "                           'b': np.random.rand(self.K, self.d, 1),\n",
    "                           'w': np.random.rand(self.d, 1),\n",
    "                           'μ': np.random.rand()}\n",
    "        \"\"\"Memory allocation\"\"\"\n",
    "        self.θ = self.copyWeights(self.startθ)\n",
    "        self.Z = np.zeros((K+1, self.d, self.I))\n",
    "        self.Z[0] = Y0\n",
    "        # One less than intended bc P[0] is not used\n",
    "        self.P = np.zeros((K, self.d, self.I))\n",
    "        self.dθ = {'W': np.zeros((self.K, self.d, self.d)),\n",
    "                   'b': np.zeros((self.K, self.d, 1)),\n",
    "                   'w': np.zeros((self.d, 1)),\n",
    "                   'μ': 0}\n",
    "\n",
    "    def __repr__(self):\n",
    "        pass\n",
    "\n",
    "    def __len__(self):\n",
    "        return self.I\n",
    "\n",
    "    def copyWeights(self, weights):\n",
    "        θ = {'W': weights['W'].copy(),\n",
    "             'b': weights['b'].copy(),\n",
    "             'w': weights['w'].copy(),\n",
    "             'μ': weights['μ']}\n",
    "        return θ\n",
    "\n",
    "    def copy(self):\n",
    "        θ = self.copyWeights(self.θ)\n",
    "        return Model(self.Y0.copy(), self.C.copy(), self.K, θ)\n",
    "\n",
    "    def computeZ(self, W, b, h, K):  # (4)\n",
    "        for k in range(K):\n",
    "            self.Z[k+1] = self.Z[k] + h * σ(W[k] @ self.Z[k] + b[k])\n",
    "\n",
    "    def backwardPropagation(self, W, b, w, μ, Z, h, K):\n",
    "        # Save computation\n",
    "        Zxw = Z[-1].T @ w + μ\n",
    "        # Update variables (Approximation)\n",
    "        self.Υ = η(Zxw).T  # (5)\n",
    "        self.ΥmC = self.Υ - self.C\n",
    "        self.Jθ = 0.5*np.linalg.norm(self.ΥmC)**2\n",
    "        # Compute last P[K]\n",
    "        self.P[self.K-1] = np.outer(w, (self.ΥmC * dη(Zxw).T))  # (10) (verified)\n",
    "        \"\"\"Backward propagation\"\"\"\n",
    "        for k in range(K-1, 0, -1):  # Change P index to K+1\n",
    "            self.P[k-1] = self.P[k] + h*W[k].T @ (dσ(W[k] @ Z[k] + b[k]) * self.P[k])  # (11)\n",
    "\n",
    "    def computeGradients(self, W, b, w, μ, Z, P, h, K):\n",
    "        # save computation\n",
    "        dηZw = dη(Z[K].T @ w + μ)\n",
    "        # compute (8) and (9)\n",
    "        self.dθ['μ'] = dηZw.T @ self.ΥmC.T\n",
    "        self.dθ['w'] = Z[K] @ (self.ΥmC.T * dηZw)\n",
    "        # Compute (12) and (13)\n",
    "        for k in range(K):\n",
    "            # Save computation\n",
    "            PhadσWZ = h * P[k] * dσ(W[k] @ Z[k] + b[k])\n",
    "            self.dθ['W'][k] = PhadσWZ @ Z[k].T\n",
    "            self.dθ['b'][k] = PhadσWZ @ np.ones((self.I, 1))\n",
    "\n",
    "    def update(self):\n",
    "        self.computeZ(self.θ['W'], self.θ['b'], self.h, self.K)\n",
    "        self.backwardPropagation(self.θ['W'], self.θ['b'], self.θ['w'], self.θ['μ'], self.Z, self.h, self.K)\n",
    "        self.computeGradients(self.θ['W'], self.θ['b'], self.θ['w'], self.θ['μ'], self.Z, self.P, self.h, self.K)\n",
    "\n",
    "    def setInput(self, Y0, C):\n",
    "        self.Y0 = Y0.copy()\n",
    "        self.Z[0] = Y0.copy()\n",
    "        self.C = C.copy()\n",
    "        self.d = len(Y0)\n",
    "        self.I = len(Y0[0])\n",
    "        self.Υ = np.zeros_like(self.C)\n",
    "        self.ΥmC = self.Υ - self.C\n",
    "        self.Jθ = 0.5 * np.linalg.norm(self.Υ - self.C)**2\n",
    "        self.j = 0\n",
    "\n",
    "    def restart(self):\n",
    "        self.θ = self.copyWeights(self.startθ)\n",
    "        self.j = 0\n",
    "        self.Υ = np.zeros_like(self.C)\n",
    "        self.ΥmC = self.Υ - self.C\n",
    "        self.Jθ = 0.5 * np.linalg.norm(self.Υ - self.C)**2\n",
    "\n",
    "    def getGrads(self):\n",
    "        h = self.h\n",
    "        K = self.K\n",
    "        Z = self.Z.copy()\n",
    "        W = self.θ['W']\n",
    "        b = self.θ['b']\n",
    "        w = self.θ['w']\n",
    "        μ = self.θ['μ']\n",
    "\n",
    "        # algorithm\n",
    "        A = np.dot(w, dη(np.dot(w.T, Z[K]) + μ))\n",
    "        for k in range(K, 0, -1):\n",
    "            A = A + W[k-1].T @ (h * dσ(W[k-1] @ Z[k-1] + b[k-1]) * A)\n",
    "        return A\n",
    "\n",
    "\n",
    "class Adam():\n",
    "    def __init__(self, model, Jθlogs=None):\n",
    "        self.M = model\n",
    "        self.maxiter = None\n",
    "        self.m = {'W': np.zeros((model.K, model.d, model.d)),\n",
    "                  'b': np.zeros((model.K, model.d, 1)),\n",
    "                  'w': np.zeros((model.d, 1)),\n",
    "                  'μ': 0}\n",
    "        self.v = self.m.copy()\n",
    "        # Logging purposes\n",
    "        self.numLogs = Jθlogs\n",
    "\n",
    "    def __repr__(self):\n",
    "        # re = f'Adam, h={self.M.h}, K={self.M.K}, iter={self.maxiter}, Jθ={round(self.M.Jθ, 5)}'\n",
    "        re = 'Adam'\n",
    "        return re\n",
    "\n",
    "    def name(self):\n",
    "        return 'Adam'\n",
    "\n",
    "    def algo(self):\n",
    "        β1 = 0.9\n",
    "        β2 = 0.999\n",
    "        α = 0.01\n",
    "        ϵ = 1e-8\n",
    "        for key in self.m.keys():\n",
    "            self.m[key] = β1*self.m[key] + (1-β1)*self.M.dθ[key]\n",
    "            self.v[key] = β2*self.v[key] + (1-β2)*np.square(self.M.dθ[key])\n",
    "\n",
    "            m = self.m[key] / (1 - β1**self.M.j)\n",
    "            v = self.v[key] / (1 - β2**self.M.j)\n",
    "            self.M.θ[key] -= α * m / (np.sqrt(v) + ϵ)\n",
    "\n",
    "    def run(self, h, tol, maxiter):\n",
    "        self.M.h = h\n",
    "        self.maxiter = maxiter\n",
    "        self.M.update()\n",
    "        while self.M.Jθ > tol and self.M.j <= maxiter:\n",
    "            self.M.j += 1\n",
    "            self.algo()\n",
    "            self.M.update()\n",
    "        self.M.Jθlog.append([self.M.h, self.M.Jθ])\n",
    "\n",
    "\n",
    "class PVGD():\n",
    "    \"\"\"Plain Vanilla Gradient Descent optimizer\n",
    "    \"\"\"\n",
    "\n",
    "    def __init__(self, model):\n",
    "        self.M = model\n",
    "        self.τ = None\n",
    "        self.maxiter = None\n",
    "        self.log = {}\n",
    "\n",
    "    def __repr__(self):\n",
    "        # re = f'PVGD, h={self.M.h}, τ={self.τ}, K={self.M.K}, iter={self.M.j}, Jθ={round(self.M.Jθ, 5)}'\n",
    "        re = 'PVGD'\n",
    "        return re\n",
    "\n",
    "    def name(self):\n",
    "        return 'PVGD'\n",
    "\n",
    "    def run(self, h, τ, tol, maxiter, ):\n",
    "        self.M.h = h\n",
    "        self.τ = τ\n",
    "        self.maxiter = maxiter\n",
    "        self.log[(τ, maxiter)] = []\n",
    "        while self.M.Jθ > tol and self.M.j < maxiter:\n",
    "            self.M.j += 1\n",
    "            self.M.update()\n",
    "            for key in self.M.θ:\n",
    "                self.M.θ[key] -= self.τ * self.M.dθ[key]\n",
    "                # if self.M.j % 10 == 0:\n",
    "                #     self.log[(τ, maxiter)].append(self.M.Jθ)\n",
    "            # self.plotProg()\n",
    "\n",
    "    def plotProg(self):\n",
    "        if self.M.j % 1000 == 0:\n",
    "            # plt.plot(self.log[(self.τ, self.maxiter)][:][1], self.log[(self.τ, self.maxiter)][:][0])\n",
    "            plt.plot(self.M.γ)\n",
    "            plt.title(f'{self.log.keys()}')\n",
    "            plt.show()"
   ]
  },
  {
   "cell_type": "markdown",
   "metadata": {},
   "source": [
    "## UI fncs"
   ]
  },
  {
   "cell_type": "code",
   "execution_count": 9,
   "metadata": {},
   "outputs": [],
   "source": [
    "\n",
    "\n",
    "def plotApprox(C, *args, x=np.array([])):\n",
    "    \"\"\"Plots optimzers best approximation to one set of training data\n",
    "\n",
    "    Args:\n",
    "        C       (ndarray)          : The exact value\n",
    "        *args   (tuple)            : tuple of optimized models that should be compared\n",
    "        x       (ndarray, optional): The x-axis of the training data. Defaults to np.array([]).\n",
    "    \"\"\"\n",
    "    if len(x) == 0:\n",
    "        x = np.linspace(0, 1, args[0].M.I)\n",
    "    for mod in args:\n",
    "        lbl = mod.name()\n",
    "        if lbl == 'PVGD':\n",
    "            lbl += ', h={}, τ={}'.format(mod.M.h, mod.τ)\n",
    "        else:\n",
    "            lbl += ', h={}'.format(mod.M.h)\n",
    "        plt.plot(x, scaleBack(mod.M.Υ[0], C), label=lbl)\n",
    "\n",
    "    if C.shape[0] == 1:\n",
    "        plt.plot(x, C[0], label='F(y)', ls='--')\n",
    "    else:\n",
    "        plt.plot(x, C, label='F(y)', ls='--')\n",
    "    plt.title(r'Comparing $\\tilde{F}(y)$ with $F(y)$')\n",
    "    plt.legend()\n",
    "    plt.show()"
   ]
  },
  {
   "cell_type": "markdown",
   "metadata": {},
   "source": [
    "## Fnc to find h and $\\tau$"
   ]
  },
  {
   "cell_type": "code",
   "execution_count": 26,
   "metadata": {},
   "outputs": [],
   "source": [
    "def findhτPVGD(m, hmM, τmM, hn, τn, tol=1e-4, maxiter=1e4):\n",
    "    hList = np.linspace(hmM[0], hmM[1], hn)\n",
    "    τList = np.linspace(τmM[0], τmM[1], τn)\n",
    "    hEp = {}  # in case of error (error proof)\n",
    "    Jθ = {}\n",
    "    r = 0\n",
    "    tot = len(hList)*len(τList)\n",
    "    for τ in τList:\n",
    "        hEp[τ] = []\n",
    "        Jθ[τ] = []\n",
    "        try:\n",
    "            for h in hList:\n",
    "                r += 1\n",
    "                start = dt.now()\n",
    "                m.run(h, τ, tol, maxiter)\n",
    "                end = dt.now()\n",
    "                Jθ[τ].append(m.M.Jθ)\n",
    "                hEp[τ].append(h)\n",
    "                m.M.restart()\n",
    "                print(f'run {r}/{tot}, runtime: {end-start}')\n",
    "        except Exception as e:\n",
    "            print(e, 'h =', h)\n",
    "\n",
    "    bestJ = 1e7\n",
    "    for τ, h in hEp.items():\n",
    "        plt.plot(h, Jθ[τ], label=r'$\\tau={}$'.format(round(τ, 5)))\n",
    "        hi = 0\n",
    "        for J in Jθ[τ]:\n",
    "            if J < bestJ:\n",
    "                bestJ = J\n",
    "                τatBest = [τ, h[hi]]\n",
    "            hi += 1\n",
    "\n",
    "    print(f'\\nBest Jθ={bestJ} when τ={τatBest[0]}, h={τatBest[1]}')\n",
    "\n",
    "    plt.title(r'$J(\\theta)$ with $K={}$, $I={}$'.format(m.M.K, m.M.I))\n",
    "    plt.legend()\n",
    "    plt.show()"
   ]
  },
  {
   "cell_type": "markdown",
   "metadata": {},
   "source": [
    "## Setup\n",
    "Cell below fixes the weights and layers for the next cells"
   ]
  },
  {
   "cell_type": "code",
   "execution_count": 36,
   "metadata": {},
   "outputs": [],
   "source": [
    "    Ifrom = 0\n",
    "    Ito = 4096\n",
    "    maxiter = 1e4\n",
    "    tol = 1e-9\n",
    "\n",
    "    # Training 1\n",
    "    batch0 = generate_data(0)\n",
    "\n",
    "    # y0 = scale(batch0['P'][:, Ifrom:Ito])\n",
    "    y0 = batch0['P'][:, Ifrom:Ito]\n",
    "    t0 = scale(batch0['t'][Ifrom:Ito], 0, 1)\n",
    "    C_T1 = np.array([batch0['T'][Ifrom:Ito]])\n",
    "    C_T1scaled = scale(C_T1, 0, 1)\n",
    "    # Setup model\n",
    "    modT = Model(y0, C_T1scaled, 10)\n",
    "    # PVGD\n",
    "    PVGDOptBatch = PVGD(modT.copy())"
   ]
  },
  {
   "cell_type": "markdown",
   "metadata": {},
   "source": [
    "# Set h and $\\tau$"
   ]
  },
  {
   "cell_type": "code",
   "execution_count": 40,
   "metadata": {},
   "outputs": [],
   "source": [
    "hFrom = 0.29\n",
    "hTo   = 0.5\n",
    "τFrom = 0.0001\n",
    "τTo   = 0.0008\n",
    "hSteps = 4\n",
    "τSteps = 4"
   ]
  },
  {
   "cell_type": "markdown",
   "metadata": {},
   "source": [
    "## Runs\n",
    "### Run 1"
   ]
  },
  {
   "cell_type": "code",
   "execution_count": 24,
   "metadata": {},
   "outputs": [
    {
     "name": "stdout",
     "output_type": "stream",
     "text": [
      "run 1/4, runtime = 0:00:05.222880\n",
      "run 2/4, runtime = 0:00:05.679815\n",
      "run 3/4, runtime = 0:00:05.322426\n",
      "run 4/4, runtime = 0:00:05.600573\n",
      "Best Jθ=0.03921727850136714 when τ=0.2, h=0.2\n"
     ]
    },
    {
     "data": {
      "image/png": "[encoded data removed]",
      "text/plain": [
       "<Figure size 432x288 with 1 Axes>"
      ]
     },
     "metadata": {
      "needs_background": "light"
     },
     "output_type": "display_data"
    }
   ],
   "source": [
    "findhτPVGD(PVGDOptBatch, (hFrom, hTo), (τFrom, τTo), hSteps, τSteps)"
   ]
  },
  {
   "cell_type": "markdown",
   "metadata": {},
   "source": [
    "### Run 2"
   ]
  },
  {
   "cell_type": "code",
   "execution_count": 30,
   "metadata": {},
   "outputs": [
    {
     "name": "stdout",
     "output_type": "stream",
     "text": [
      "run 1/16, runtime: 0:00:09.533491\n",
      "run 2/16, runtime: 0:00:10.136241\n",
      "run 3/16, runtime: 0:00:11.571453\n",
      "run 4/16, runtime: 0:00:11.662452\n",
      "run 5/16, runtime: 0:00:09.749579\n",
      "run 6/16, runtime: 0:00:11.706601\n",
      "run 7/16, runtime: 0:00:12.373267\n",
      "run 8/16, runtime: 0:00:12.016369\n",
      "run 9/16, runtime: 0:00:09.291639\n",
      "run 10/16, runtime: 0:00:12.584150\n",
      "run 11/16, runtime: 0:00:12.982797\n",
      "run 12/16, runtime: 0:00:12.893534\n",
      "run 13/16, runtime: 0:00:11.862008\n",
      "run 14/16, runtime: 0:00:12.799636\n",
      "run 15/16, runtime: 0:00:12.865333\n",
      "run 16/16, runtime: 0:00:11.796858\n",
      "\n",
      "Best Jθ=0.01748829818406522 when τ=0.06673333333333334, h=0.07333333333333333\n"
     ]
    },
    {
     "data": {
      "image/png": "[encoded data removed]",
      "text/plain": [
       "<Figure size 432x288 with 1 Axes>"
      ]
     },
     "metadata": {
      "needs_background": "light"
     },
     "output_type": "display_data"
    }
   ],
   "source": [
    "findhτPVGD(PVGDOptBatch, (hFrom, hTo), (τFrom, τTo), hSteps, τSteps)"
   ]
  },
  {
   "cell_type": "code",
   "execution_count": 33,
   "metadata": {},
   "outputs": [
    {
     "name": "stdout",
     "output_type": "stream",
     "text": [
      "run 1/16, runtime: 0:00:15.551288\n",
      "run 2/16, runtime: 0:00:17.631967\n",
      "run 3/16, runtime: 0:00:19.578662\n",
      "run 4/16, runtime: 0:00:20.747554\n",
      "run 5/16, runtime: 0:00:18.840358\n",
      "run 6/16, runtime: 0:00:19.422129\n",
      "run 7/16, runtime: 0:00:20.177365\n",
      "run 8/16, runtime: 0:00:21.935533\n",
      "run 9/16, runtime: 0:00:20.066099\n",
      "run 10/16, runtime: 0:00:20.479939\n",
      "run 11/16, runtime: 0:00:20.902122\n",
      "run 12/16, runtime: 0:00:21.738031\n",
      "run 13/16, runtime: 0:00:21.233981\n",
      "run 14/16, runtime: 0:00:21.157295\n",
      "run 15/16, runtime: 0:00:22.264664\n",
      "run 16/16, runtime: 0:00:20.613880\n",
      "\n",
      "Best Jθ=0.01572050870964845 when τ=0.053366666666666666, h=0.22333333333333333\n"
     ]
    },
    {
     "data": {
      "image/png": "[encoded data removed]",
      "text/plain": [
       "<Figure size 432x288 with 1 Axes>"
      ]
     },
     "metadata": {
      "needs_background": "light"
     },
     "output_type": "display_data"
    }
   ],
   "source": [
    "findhτPVGD(PVGDOptBatch, (hFrom, hTo), (τFrom, τTo), hSteps, τSteps)"
   ]
  },
  {
   "cell_type": "code",
   "execution_count": 39,
   "metadata": {},
   "outputs": [
    {
     "name": "stdout",
     "output_type": "stream",
     "text": [
      "run 1/16, runtime: 0:01:10.445673\n",
      "run 2/16, runtime: 0:01:13.677135\n",
      "run 3/16, runtime: 0:01:09.845882\n",
      "run 4/16, runtime: 0:01:11.662202\n",
      "run 5/16, runtime: 0:01:17.276985\n",
      "run 6/16, runtime: 0:01:26.073839\n",
      "run 7/16, runtime: 0:01:20.166057\n",
      "run 8/16, runtime: 0:01:20.000817\n",
      "run 9/16, runtime: 0:01:22.415717\n",
      "run 10/16, runtime: 0:01:23.887044\n",
      "run 11/16, runtime: 0:01:40.615484\n",
      "run 12/16, runtime: 0:01:40.748006\n",
      "run 13/16, runtime: 0:01:37.874903\n",
      "run 14/16, runtime: 0:01:36.805196\n",
      "run 15/16, runtime: 0:01:33.183806\n",
      "run 16/16, runtime: 0:01:27.837332\n",
      "\n",
      "Best Jθ=0.41228564729782124 when τ=0.006066666666666666, h=0.29\n"
     ]
    },
    {
     "data": {
      "image/png": "[encoded data removed]",
      "text/plain": [
       "<Figure size 432x288 with 1 Axes>"
      ]
     },
     "metadata": {
      "needs_background": "light"
     },
     "output_type": "display_data"
    }
   ],
   "source": [
    "findhτPVGD(PVGDOptBatch, (hFrom, hTo), (τFrom, τTo), hSteps, τSteps)"
   ]
  },
  {
   "cell_type": "code",
   "execution_count": 41,
   "metadata": {},
   "outputs": [
    {
     "name": "stdout",
     "output_type": "stream",
     "text": [
      "run 1/16, runtime: 0:01:23.973034\n",
      "run 2/16, runtime: 0:01:19.178372\n",
      "run 3/16, runtime: 0:01:32.899814\n",
      "run 4/16, runtime: 0:01:40.924832\n",
      "run 5/16, runtime: 0:01:36.432753\n",
      "run 6/16, runtime: 0:01:23.505831\n",
      "run 7/16, runtime: 0:01:28.762904\n",
      "run 8/16, runtime: 0:01:32.111384\n",
      "run 9/16, runtime: 0:01:26.464714\n",
      "run 10/16, runtime: 0:01:27.438381\n",
      "run 11/16, runtime: 0:01:10.852422\n",
      "run 12/16, runtime: 0:01:10.702869\n",
      "run 13/16, runtime: 0:01:26.014279\n",
      "run 14/16, runtime: 0:01:14.802651\n",
      "run 15/16, runtime: 0:01:16.354292\n",
      "run 16/16, runtime: 0:01:23.004323\n",
      "\n",
      "Best Jθ=0.896627170558753 when τ=0.0008, h=0.43\n"
     ]
    },
    {
     "data": {
      "image/png": "[encoded data removed]",
      "text/plain": [
       "<Figure size 432x288 with 1 Axes>"
      ]
     },
     "metadata": {
      "needs_background": "light"
     },
     "output_type": "display_data"
    }
   ],
   "source": [
    "findhτPVGD(PVGDOptBatch, (hFrom, hTo), (τFrom, τTo), hSteps, τSteps)"
   ]
  }
 ],
 "metadata": {
  "kernelspec": {
   "display_name": "Python 3",
   "language": "python",
   "name": "python3"
  },
  "language_info": {
   "codemirror_mode": {
    "name": "ipython",
    "version": 3
   },
   "file_extension": ".py",
   "mimetype": "text/x-python",
   "name": "python",
   "nbconvert_exporter": "python",
   "pygments_lexer": "ipython3",
   "version": "3.8.3"
  }
 },
 "nbformat": 4,
 "nbformat_minor": 4
}
